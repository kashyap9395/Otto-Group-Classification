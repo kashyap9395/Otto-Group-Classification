{
 "cells": [
  {
   "cell_type": "markdown",
   "metadata": {},
   "source": [
    "# Otto Group Product Classification Challenge\n",
    "\n",
    "This project is based on a Kaggle competition titled as above. \n",
    "Link: https://www.kaggle.com/c/otto-group-product-classification-challenge\n",
    "\n",
    "The project utilizes a popular concept in ensembling called Stacking. \n",
    "The first layer models in stacking are: Support Vector Classifier, Random Forest, Extra Trees, Neural Network, AdaBoost, Gradient Boost and Logistic Regression.\n",
    "The second layer model is XGBoost. \n",
    "\n",
    "The submission achieved a score of 0.43921"
   ]
  },
  {
   "cell_type": "markdown",
   "metadata": {},
   "source": [
    "### Performing necessary imports"
   ]
  },
  {
   "cell_type": "code",
   "execution_count": 1,
   "metadata": {
    "collapsed": true
   },
   "outputs": [],
   "source": [
    "import xgboost as xgb"
   ]
  },
  {
   "cell_type": "code",
   "execution_count": 39,
   "metadata": {
    "collapsed": true
   },
   "outputs": [],
   "source": [
    "import pandas as pd\n",
    "import os\n",
    "import numpy as np"
   ]
  },
  {
   "cell_type": "code",
   "execution_count": 3,
   "metadata": {
    "collapsed": true
   },
   "outputs": [],
   "source": [
    "import matplotlib.pyplot as plt "
   ]
  },
  {
   "cell_type": "code",
   "execution_count": 4,
   "metadata": {
    "collapsed": true
   },
   "outputs": [],
   "source": [
    "from sklearn import preprocessing "
   ]
  },
  {
   "cell_type": "code",
   "execution_count": 32,
   "metadata": {
    "collapsed": true
   },
   "outputs": [],
   "source": [
    "from sklearn.model_selection import StratifiedKFold\n",
    "from sklearn.model_selection import GridSearchCV\n",
    "from sklearn.linear_model import LogisticRegression\n",
    "from sklearn.svm import SVC\n",
    "from sklearn.ensemble import RandomForestClassifier, ExtraTreesClassifier, AdaBoostClassifier, GradientBoostingClassifier\n",
    "from sklearn.neural_network import MLPClassifier"
   ]
  },
  {
   "cell_type": "markdown",
   "metadata": {},
   "source": [
    "### Reading the data "
   ]
  },
  {
   "cell_type": "code",
   "execution_count": 5,
   "metadata": {
    "collapsed": true
   },
   "outputs": [],
   "source": [
    "train = pd.read_csv('train.csv')\n",
    "test = pd.read_csv('test.csv')\n",
    "sample = pd.read_csv('sampleSubmission.csv')"
   ]
  },
  {
   "cell_type": "code",
   "execution_count": 6,
   "metadata": {},
   "outputs": [
    {
     "data": {
      "text/html": [
       "<div>\n",
       "<style scoped>\n",
       "    .dataframe tbody tr th:only-of-type {\n",
       "        vertical-align: middle;\n",
       "    }\n",
       "\n",
       "    .dataframe tbody tr th {\n",
       "        vertical-align: top;\n",
       "    }\n",
       "\n",
       "    .dataframe thead th {\n",
       "        text-align: right;\n",
       "    }\n",
       "</style>\n",
       "<table border=\"1\" class=\"dataframe\">\n",
       "  <thead>\n",
       "    <tr style=\"text-align: right;\">\n",
       "      <th></th>\n",
       "      <th>id</th>\n",
       "      <th>feat_1</th>\n",
       "      <th>feat_2</th>\n",
       "      <th>feat_3</th>\n",
       "      <th>feat_4</th>\n",
       "      <th>feat_5</th>\n",
       "      <th>feat_6</th>\n",
       "      <th>feat_7</th>\n",
       "      <th>feat_8</th>\n",
       "      <th>feat_9</th>\n",
       "      <th>...</th>\n",
       "      <th>feat_85</th>\n",
       "      <th>feat_86</th>\n",
       "      <th>feat_87</th>\n",
       "      <th>feat_88</th>\n",
       "      <th>feat_89</th>\n",
       "      <th>feat_90</th>\n",
       "      <th>feat_91</th>\n",
       "      <th>feat_92</th>\n",
       "      <th>feat_93</th>\n",
       "      <th>target</th>\n",
       "    </tr>\n",
       "  </thead>\n",
       "  <tbody>\n",
       "    <tr>\n",
       "      <th>0</th>\n",
       "      <td>1</td>\n",
       "      <td>1</td>\n",
       "      <td>0</td>\n",
       "      <td>0</td>\n",
       "      <td>0</td>\n",
       "      <td>0</td>\n",
       "      <td>0</td>\n",
       "      <td>0</td>\n",
       "      <td>0</td>\n",
       "      <td>0</td>\n",
       "      <td>...</td>\n",
       "      <td>1</td>\n",
       "      <td>0</td>\n",
       "      <td>0</td>\n",
       "      <td>0</td>\n",
       "      <td>0</td>\n",
       "      <td>0</td>\n",
       "      <td>0</td>\n",
       "      <td>0</td>\n",
       "      <td>0</td>\n",
       "      <td>Class_1</td>\n",
       "    </tr>\n",
       "    <tr>\n",
       "      <th>1</th>\n",
       "      <td>2</td>\n",
       "      <td>0</td>\n",
       "      <td>0</td>\n",
       "      <td>0</td>\n",
       "      <td>0</td>\n",
       "      <td>0</td>\n",
       "      <td>0</td>\n",
       "      <td>0</td>\n",
       "      <td>1</td>\n",
       "      <td>0</td>\n",
       "      <td>...</td>\n",
       "      <td>0</td>\n",
       "      <td>0</td>\n",
       "      <td>0</td>\n",
       "      <td>0</td>\n",
       "      <td>0</td>\n",
       "      <td>0</td>\n",
       "      <td>0</td>\n",
       "      <td>0</td>\n",
       "      <td>0</td>\n",
       "      <td>Class_1</td>\n",
       "    </tr>\n",
       "    <tr>\n",
       "      <th>2</th>\n",
       "      <td>3</td>\n",
       "      <td>0</td>\n",
       "      <td>0</td>\n",
       "      <td>0</td>\n",
       "      <td>0</td>\n",
       "      <td>0</td>\n",
       "      <td>0</td>\n",
       "      <td>0</td>\n",
       "      <td>1</td>\n",
       "      <td>0</td>\n",
       "      <td>...</td>\n",
       "      <td>0</td>\n",
       "      <td>0</td>\n",
       "      <td>0</td>\n",
       "      <td>0</td>\n",
       "      <td>0</td>\n",
       "      <td>0</td>\n",
       "      <td>0</td>\n",
       "      <td>0</td>\n",
       "      <td>0</td>\n",
       "      <td>Class_1</td>\n",
       "    </tr>\n",
       "    <tr>\n",
       "      <th>3</th>\n",
       "      <td>4</td>\n",
       "      <td>1</td>\n",
       "      <td>0</td>\n",
       "      <td>0</td>\n",
       "      <td>1</td>\n",
       "      <td>6</td>\n",
       "      <td>1</td>\n",
       "      <td>5</td>\n",
       "      <td>0</td>\n",
       "      <td>0</td>\n",
       "      <td>...</td>\n",
       "      <td>0</td>\n",
       "      <td>1</td>\n",
       "      <td>2</td>\n",
       "      <td>0</td>\n",
       "      <td>0</td>\n",
       "      <td>0</td>\n",
       "      <td>0</td>\n",
       "      <td>0</td>\n",
       "      <td>0</td>\n",
       "      <td>Class_1</td>\n",
       "    </tr>\n",
       "    <tr>\n",
       "      <th>4</th>\n",
       "      <td>5</td>\n",
       "      <td>0</td>\n",
       "      <td>0</td>\n",
       "      <td>0</td>\n",
       "      <td>0</td>\n",
       "      <td>0</td>\n",
       "      <td>0</td>\n",
       "      <td>0</td>\n",
       "      <td>0</td>\n",
       "      <td>0</td>\n",
       "      <td>...</td>\n",
       "      <td>1</td>\n",
       "      <td>0</td>\n",
       "      <td>0</td>\n",
       "      <td>0</td>\n",
       "      <td>0</td>\n",
       "      <td>1</td>\n",
       "      <td>0</td>\n",
       "      <td>0</td>\n",
       "      <td>0</td>\n",
       "      <td>Class_1</td>\n",
       "    </tr>\n",
       "  </tbody>\n",
       "</table>\n",
       "<p>5 rows × 95 columns</p>\n",
       "</div>"
      ],
      "text/plain": [
       "   id  feat_1  feat_2  feat_3  feat_4  feat_5  feat_6  feat_7  feat_8  feat_9  \\\n",
       "0   1       1       0       0       0       0       0       0       0       0   \n",
       "1   2       0       0       0       0       0       0       0       1       0   \n",
       "2   3       0       0       0       0       0       0       0       1       0   \n",
       "3   4       1       0       0       1       6       1       5       0       0   \n",
       "4   5       0       0       0       0       0       0       0       0       0   \n",
       "\n",
       "    ...     feat_85  feat_86  feat_87  feat_88  feat_89  feat_90  feat_91  \\\n",
       "0   ...           1        0        0        0        0        0        0   \n",
       "1   ...           0        0        0        0        0        0        0   \n",
       "2   ...           0        0        0        0        0        0        0   \n",
       "3   ...           0        1        2        0        0        0        0   \n",
       "4   ...           1        0        0        0        0        1        0   \n",
       "\n",
       "   feat_92  feat_93   target  \n",
       "0        0        0  Class_1  \n",
       "1        0        0  Class_1  \n",
       "2        0        0  Class_1  \n",
       "3        0        0  Class_1  \n",
       "4        0        0  Class_1  \n",
       "\n",
       "[5 rows x 95 columns]"
      ]
     },
     "execution_count": 6,
     "metadata": {},
     "output_type": "execute_result"
    }
   ],
   "source": [
    "train.head()"
   ]
  },
  {
   "cell_type": "code",
   "execution_count": 7,
   "metadata": {},
   "outputs": [
    {
     "data": {
      "text/html": [
       "<div>\n",
       "<style scoped>\n",
       "    .dataframe tbody tr th:only-of-type {\n",
       "        vertical-align: middle;\n",
       "    }\n",
       "\n",
       "    .dataframe tbody tr th {\n",
       "        vertical-align: top;\n",
       "    }\n",
       "\n",
       "    .dataframe thead th {\n",
       "        text-align: right;\n",
       "    }\n",
       "</style>\n",
       "<table border=\"1\" class=\"dataframe\">\n",
       "  <thead>\n",
       "    <tr style=\"text-align: right;\">\n",
       "      <th></th>\n",
       "      <th>id</th>\n",
       "      <th>feat_1</th>\n",
       "      <th>feat_2</th>\n",
       "      <th>feat_3</th>\n",
       "      <th>feat_4</th>\n",
       "      <th>feat_5</th>\n",
       "      <th>feat_6</th>\n",
       "      <th>feat_7</th>\n",
       "      <th>feat_8</th>\n",
       "      <th>feat_9</th>\n",
       "      <th>...</th>\n",
       "      <th>feat_84</th>\n",
       "      <th>feat_85</th>\n",
       "      <th>feat_86</th>\n",
       "      <th>feat_87</th>\n",
       "      <th>feat_88</th>\n",
       "      <th>feat_89</th>\n",
       "      <th>feat_90</th>\n",
       "      <th>feat_91</th>\n",
       "      <th>feat_92</th>\n",
       "      <th>feat_93</th>\n",
       "    </tr>\n",
       "  </thead>\n",
       "  <tbody>\n",
       "    <tr>\n",
       "      <th>count</th>\n",
       "      <td>61878.000000</td>\n",
       "      <td>61878.00000</td>\n",
       "      <td>61878.000000</td>\n",
       "      <td>61878.000000</td>\n",
       "      <td>61878.000000</td>\n",
       "      <td>61878.000000</td>\n",
       "      <td>61878.000000</td>\n",
       "      <td>61878.000000</td>\n",
       "      <td>61878.000000</td>\n",
       "      <td>61878.000000</td>\n",
       "      <td>...</td>\n",
       "      <td>61878.000000</td>\n",
       "      <td>61878.000000</td>\n",
       "      <td>61878.000000</td>\n",
       "      <td>61878.000000</td>\n",
       "      <td>61878.000000</td>\n",
       "      <td>61878.000000</td>\n",
       "      <td>61878.000000</td>\n",
       "      <td>61878.000000</td>\n",
       "      <td>61878.000000</td>\n",
       "      <td>61878.000000</td>\n",
       "    </tr>\n",
       "    <tr>\n",
       "      <th>mean</th>\n",
       "      <td>30939.500000</td>\n",
       "      <td>0.38668</td>\n",
       "      <td>0.263066</td>\n",
       "      <td>0.901467</td>\n",
       "      <td>0.779081</td>\n",
       "      <td>0.071043</td>\n",
       "      <td>0.025696</td>\n",
       "      <td>0.193704</td>\n",
       "      <td>0.662433</td>\n",
       "      <td>1.011296</td>\n",
       "      <td>...</td>\n",
       "      <td>0.070752</td>\n",
       "      <td>0.532306</td>\n",
       "      <td>1.128576</td>\n",
       "      <td>0.393549</td>\n",
       "      <td>0.874915</td>\n",
       "      <td>0.457772</td>\n",
       "      <td>0.812421</td>\n",
       "      <td>0.264941</td>\n",
       "      <td>0.380119</td>\n",
       "      <td>0.126135</td>\n",
       "    </tr>\n",
       "    <tr>\n",
       "      <th>std</th>\n",
       "      <td>17862.784315</td>\n",
       "      <td>1.52533</td>\n",
       "      <td>1.252073</td>\n",
       "      <td>2.934818</td>\n",
       "      <td>2.788005</td>\n",
       "      <td>0.438902</td>\n",
       "      <td>0.215333</td>\n",
       "      <td>1.030102</td>\n",
       "      <td>2.255770</td>\n",
       "      <td>3.474822</td>\n",
       "      <td>...</td>\n",
       "      <td>1.151460</td>\n",
       "      <td>1.900438</td>\n",
       "      <td>2.681554</td>\n",
       "      <td>1.575455</td>\n",
       "      <td>2.115466</td>\n",
       "      <td>1.527385</td>\n",
       "      <td>4.597804</td>\n",
       "      <td>2.045646</td>\n",
       "      <td>0.982385</td>\n",
       "      <td>1.201720</td>\n",
       "    </tr>\n",
       "    <tr>\n",
       "      <th>min</th>\n",
       "      <td>1.000000</td>\n",
       "      <td>0.00000</td>\n",
       "      <td>0.000000</td>\n",
       "      <td>0.000000</td>\n",
       "      <td>0.000000</td>\n",
       "      <td>0.000000</td>\n",
       "      <td>0.000000</td>\n",
       "      <td>0.000000</td>\n",
       "      <td>0.000000</td>\n",
       "      <td>0.000000</td>\n",
       "      <td>...</td>\n",
       "      <td>0.000000</td>\n",
       "      <td>0.000000</td>\n",
       "      <td>0.000000</td>\n",
       "      <td>0.000000</td>\n",
       "      <td>0.000000</td>\n",
       "      <td>0.000000</td>\n",
       "      <td>0.000000</td>\n",
       "      <td>0.000000</td>\n",
       "      <td>0.000000</td>\n",
       "      <td>0.000000</td>\n",
       "    </tr>\n",
       "    <tr>\n",
       "      <th>25%</th>\n",
       "      <td>15470.250000</td>\n",
       "      <td>0.00000</td>\n",
       "      <td>0.000000</td>\n",
       "      <td>0.000000</td>\n",
       "      <td>0.000000</td>\n",
       "      <td>0.000000</td>\n",
       "      <td>0.000000</td>\n",
       "      <td>0.000000</td>\n",
       "      <td>0.000000</td>\n",
       "      <td>0.000000</td>\n",
       "      <td>...</td>\n",
       "      <td>0.000000</td>\n",
       "      <td>0.000000</td>\n",
       "      <td>0.000000</td>\n",
       "      <td>0.000000</td>\n",
       "      <td>0.000000</td>\n",
       "      <td>0.000000</td>\n",
       "      <td>0.000000</td>\n",
       "      <td>0.000000</td>\n",
       "      <td>0.000000</td>\n",
       "      <td>0.000000</td>\n",
       "    </tr>\n",
       "    <tr>\n",
       "      <th>50%</th>\n",
       "      <td>30939.500000</td>\n",
       "      <td>0.00000</td>\n",
       "      <td>0.000000</td>\n",
       "      <td>0.000000</td>\n",
       "      <td>0.000000</td>\n",
       "      <td>0.000000</td>\n",
       "      <td>0.000000</td>\n",
       "      <td>0.000000</td>\n",
       "      <td>0.000000</td>\n",
       "      <td>0.000000</td>\n",
       "      <td>...</td>\n",
       "      <td>0.000000</td>\n",
       "      <td>0.000000</td>\n",
       "      <td>0.000000</td>\n",
       "      <td>0.000000</td>\n",
       "      <td>0.000000</td>\n",
       "      <td>0.000000</td>\n",
       "      <td>0.000000</td>\n",
       "      <td>0.000000</td>\n",
       "      <td>0.000000</td>\n",
       "      <td>0.000000</td>\n",
       "    </tr>\n",
       "    <tr>\n",
       "      <th>75%</th>\n",
       "      <td>46408.750000</td>\n",
       "      <td>0.00000</td>\n",
       "      <td>0.000000</td>\n",
       "      <td>0.000000</td>\n",
       "      <td>0.000000</td>\n",
       "      <td>0.000000</td>\n",
       "      <td>0.000000</td>\n",
       "      <td>0.000000</td>\n",
       "      <td>1.000000</td>\n",
       "      <td>0.000000</td>\n",
       "      <td>...</td>\n",
       "      <td>0.000000</td>\n",
       "      <td>0.000000</td>\n",
       "      <td>1.000000</td>\n",
       "      <td>0.000000</td>\n",
       "      <td>1.000000</td>\n",
       "      <td>0.000000</td>\n",
       "      <td>0.000000</td>\n",
       "      <td>0.000000</td>\n",
       "      <td>0.000000</td>\n",
       "      <td>0.000000</td>\n",
       "    </tr>\n",
       "    <tr>\n",
       "      <th>max</th>\n",
       "      <td>61878.000000</td>\n",
       "      <td>61.00000</td>\n",
       "      <td>51.000000</td>\n",
       "      <td>64.000000</td>\n",
       "      <td>70.000000</td>\n",
       "      <td>19.000000</td>\n",
       "      <td>10.000000</td>\n",
       "      <td>38.000000</td>\n",
       "      <td>76.000000</td>\n",
       "      <td>43.000000</td>\n",
       "      <td>...</td>\n",
       "      <td>76.000000</td>\n",
       "      <td>55.000000</td>\n",
       "      <td>65.000000</td>\n",
       "      <td>67.000000</td>\n",
       "      <td>30.000000</td>\n",
       "      <td>61.000000</td>\n",
       "      <td>130.000000</td>\n",
       "      <td>52.000000</td>\n",
       "      <td>19.000000</td>\n",
       "      <td>87.000000</td>\n",
       "    </tr>\n",
       "  </tbody>\n",
       "</table>\n",
       "<p>8 rows × 94 columns</p>\n",
       "</div>"
      ],
      "text/plain": [
       "                 id       feat_1        feat_2        feat_3        feat_4  \\\n",
       "count  61878.000000  61878.00000  61878.000000  61878.000000  61878.000000   \n",
       "mean   30939.500000      0.38668      0.263066      0.901467      0.779081   \n",
       "std    17862.784315      1.52533      1.252073      2.934818      2.788005   \n",
       "min        1.000000      0.00000      0.000000      0.000000      0.000000   \n",
       "25%    15470.250000      0.00000      0.000000      0.000000      0.000000   \n",
       "50%    30939.500000      0.00000      0.000000      0.000000      0.000000   \n",
       "75%    46408.750000      0.00000      0.000000      0.000000      0.000000   \n",
       "max    61878.000000     61.00000     51.000000     64.000000     70.000000   \n",
       "\n",
       "             feat_5        feat_6        feat_7        feat_8        feat_9  \\\n",
       "count  61878.000000  61878.000000  61878.000000  61878.000000  61878.000000   \n",
       "mean       0.071043      0.025696      0.193704      0.662433      1.011296   \n",
       "std        0.438902      0.215333      1.030102      2.255770      3.474822   \n",
       "min        0.000000      0.000000      0.000000      0.000000      0.000000   \n",
       "25%        0.000000      0.000000      0.000000      0.000000      0.000000   \n",
       "50%        0.000000      0.000000      0.000000      0.000000      0.000000   \n",
       "75%        0.000000      0.000000      0.000000      1.000000      0.000000   \n",
       "max       19.000000     10.000000     38.000000     76.000000     43.000000   \n",
       "\n",
       "           ...            feat_84       feat_85       feat_86       feat_87  \\\n",
       "count      ...       61878.000000  61878.000000  61878.000000  61878.000000   \n",
       "mean       ...           0.070752      0.532306      1.128576      0.393549   \n",
       "std        ...           1.151460      1.900438      2.681554      1.575455   \n",
       "min        ...           0.000000      0.000000      0.000000      0.000000   \n",
       "25%        ...           0.000000      0.000000      0.000000      0.000000   \n",
       "50%        ...           0.000000      0.000000      0.000000      0.000000   \n",
       "75%        ...           0.000000      0.000000      1.000000      0.000000   \n",
       "max        ...          76.000000     55.000000     65.000000     67.000000   \n",
       "\n",
       "            feat_88       feat_89       feat_90       feat_91       feat_92  \\\n",
       "count  61878.000000  61878.000000  61878.000000  61878.000000  61878.000000   \n",
       "mean       0.874915      0.457772      0.812421      0.264941      0.380119   \n",
       "std        2.115466      1.527385      4.597804      2.045646      0.982385   \n",
       "min        0.000000      0.000000      0.000000      0.000000      0.000000   \n",
       "25%        0.000000      0.000000      0.000000      0.000000      0.000000   \n",
       "50%        0.000000      0.000000      0.000000      0.000000      0.000000   \n",
       "75%        1.000000      0.000000      0.000000      0.000000      0.000000   \n",
       "max       30.000000     61.000000    130.000000     52.000000     19.000000   \n",
       "\n",
       "            feat_93  \n",
       "count  61878.000000  \n",
       "mean       0.126135  \n",
       "std        1.201720  \n",
       "min        0.000000  \n",
       "25%        0.000000  \n",
       "50%        0.000000  \n",
       "75%        0.000000  \n",
       "max       87.000000  \n",
       "\n",
       "[8 rows x 94 columns]"
      ]
     },
     "execution_count": 7,
     "metadata": {},
     "output_type": "execute_result"
    }
   ],
   "source": [
    "train.describe()"
   ]
  },
  {
   "cell_type": "code",
   "execution_count": 8,
   "metadata": {
    "collapsed": true
   },
   "outputs": [],
   "source": [
    "labels = train.target.values\n",
    "labels = preprocessing.LabelEncoder().fit_transform(labels)\n",
    "train = train.drop([\"id\", \"target\"], axis=1)\n",
    "test = test.drop(\"id\", axis = 1)"
   ]
  },
  {
   "cell_type": "markdown",
   "metadata": {},
   "source": [
    "### Defining the parameters of models"
   ]
  },
  {
   "cell_type": "code",
   "execution_count": 103,
   "metadata": {
    "collapsed": true
   },
   "outputs": [],
   "source": [
    "xgb_params = {\"objective\": \"multi:softprob\", \"eval_metric\":\"mlogloss\", \"num_class\":9}\n",
    "svm_params = {'C': 10, 'gamma': 0.0001, 'kernel': 'rbf', 'probability': True}\n",
    "tree_params ={'n_estimators': 100, 'n_jobs': -1, 'criterion': 'gini'}\n",
    "nn_params = {'solver': 'lbfgs', 'alpha': 5e-4, 'hidden_layer_sizes': (3), 'random_state': 1, 'max_iter': 500}\n",
    "#ada_params = {'n_estimators': 500, 'learning_rate' : 0.75}\n",
    "#gb_params = {'n_estimators': 500,'max_depth': 5, 'min_samples_leaf': 2}"
   ]
  },
  {
   "cell_type": "code",
   "execution_count": 58,
   "metadata": {
    "collapsed": true
   },
   "outputs": [],
   "source": [
    "ntrain = train.shape[0]\n",
    "ntest = test.shape[0]\n",
    "seed = 0 # for reproducibility\n",
    "nfolds = 10 # set folds for out-of-fold prediction\n",
    "nclasses = 9\n",
    "skf = list(StratifiedKFold(nfolds, random_state=seed).split(train,labels))"
   ]
  },
  {
   "cell_type": "markdown",
   "metadata": {},
   "source": [
    "### Stacking function"
   ]
  },
  {
   "cell_type": "code",
   "execution_count": 66,
   "metadata": {
    "collapsed": true
   },
   "outputs": [],
   "source": [
    "#Code inspired from https://www.kaggle.com/arthurtok/introduction-to-ensembling-stacking-in-python\n",
    "#Stacking Function for multiclass classification\n",
    "def get_oof(clf, x_train, y_train, x_test):\n",
    "    oof_train = np.zeros((ntrain,nclasses))\n",
    "    oof_test = np.zeros((ntest,nclasses))\n",
    "    oof_test_skf = np.empty((nfolds*nclasses, ntest))\n",
    "\n",
    "    for i, (train_index, test_index) in enumerate(skf):\n",
    "        x_tr = x_train[train_index]\n",
    "        y_tr = y_train[train_index]\n",
    "        x_te = x_train[test_index]\n",
    "\n",
    "        clf.fit(x_tr, y_tr)\n",
    "\n",
    "        oof_train[test_index,:] = clf.predict_proba(x_te)\n",
    "        #oof_test_skf[i:i+nclasses-1, :] = clf.predict_proba(x_test)\n",
    "\n",
    "    oof_test = clf.predict_proba(x_test)\n",
    "    return oof_train.reshape(-1, nclasses), oof_test.reshape(-1, nclasses)"
   ]
  },
  {
   "cell_type": "code",
   "execution_count": 91,
   "metadata": {
    "collapsed": true
   },
   "outputs": [],
   "source": [
    "svm = SVC(**svm_params)\n",
    "rf = RandomForestClassifier(**tree_params)\n",
    "xt = ExtraTreesClassifier(**tree_params)\n",
    "nn = MLPClassifier(**nn_params)\n",
    "ada = AdaBoostClassifier()\n",
    "gb = GradientBoostingClassifier()\n",
    "lr = LogisticRegression()\n",
    "gbm = xgb.XGBClassifier(**xgb_params)"
   ]
  },
  {
   "cell_type": "code",
   "execution_count": 64,
   "metadata": {
    "collapsed": true
   },
   "outputs": [],
   "source": [
    "train = train.values # Creates an numpy array of the train data\n",
    "test = test.values # Creats an numpy array of the test data"
   ]
  },
  {
   "cell_type": "markdown",
   "metadata": {},
   "source": [
    "### Training the first layer models in stacking"
   ]
  },
  {
   "cell_type": "code",
   "execution_count": null,
   "metadata": {
    "collapsed": true
   },
   "outputs": [],
   "source": [
    "svm_oof_train, svm_oof_test = get_oof(svm, train, labels, test) # Support Vector Classifier"
   ]
  },
  {
   "cell_type": "code",
   "execution_count": null,
   "metadata": {
    "collapsed": true
   },
   "outputs": [],
   "source": [
    "rf_oof_train, rf_oof_test = get_oof(rf, train, labels, test) # Random Forest"
   ]
  },
  {
   "cell_type": "code",
   "execution_count": 101,
   "metadata": {
    "collapsed": true
   },
   "outputs": [],
   "source": [
    "xt_oof_train, et_oof_test = get_oof(xt, train, labels, test) # Extra Trees"
   ]
  },
  {
   "cell_type": "code",
   "execution_count": 85,
   "metadata": {
    "collapsed": true,
    "scrolled": true
   },
   "outputs": [],
   "source": [
    "nn_oof_train, nn_oof_test = get_oof(nn, train, labels, test) # Neural Network"
   ]
  },
  {
   "cell_type": "code",
   "execution_count": 94,
   "metadata": {
    "collapsed": true,
    "scrolled": true
   },
   "outputs": [],
   "source": [
    "ada_oof_train, ada_oof_test = get_oof(ada, train, labels, test) # AdaBoost "
   ]
  },
  {
   "cell_type": "code",
   "execution_count": 102,
   "metadata": {
    "collapsed": true
   },
   "outputs": [],
   "source": [
    "gb_oof_train, gb_oof_test = get_oof(gb, train, labels, test) # Gradient Boost"
   ]
  },
  {
   "cell_type": "code",
   "execution_count": 96,
   "metadata": {
    "collapsed": true
   },
   "outputs": [],
   "source": [
    "lr_oof_train, lr_oof_tes = get_oof(lr, train, labels, test) # Logistic Regression"
   ]
  },
  {
   "cell_type": "code",
   "execution_count": 104,
   "metadata": {
    "collapsed": true
   },
   "outputs": [],
   "source": [
    "x_train = np.concatenate((lr_oof_train, svm_oof_train, rf_oof_train, xt_oof_train, nn_oof_train, ada_oof_train, gb_oof_train), axis=1)\n",
    "x_test = np.concatenate((lr_oof_test, svm_oof_test, rf_oof_test, et_oof_test, nn_oof_test, ada_oof_test, gb_oof_test), axis=1)"
   ]
  },
  {
   "cell_type": "markdown",
   "metadata": {},
   "source": [
    "### Performing grid search for the second layer model i.e. XGBoost"
   ]
  },
  {
   "cell_type": "code",
   "execution_count": 121,
   "metadata": {
    "collapsed": true
   },
   "outputs": [],
   "source": [
    "from sklearn.model_selection import GridSearchCV\n",
    "param_grid = {\n",
    "        #'n_estimators': [100, 250, 500],\n",
    "        #'learning_rate': [0.05, 0.1, 0.3],\n",
    "        'max_depth': [6, 9, 12],\n",
    "        'min_child_weight': [3, 6, 9],\n",
    "        #'subsample': [0.8, 0.9, 1.0],\n",
    "        'colsample_bytree': [0.8, 1.0]\n",
    "    }"
   ]
  },
  {
   "cell_type": "code",
   "execution_count": 122,
   "metadata": {
    "collapsed": true
   },
   "outputs": [],
   "source": [
    "grid = GridSearchCV(gbm,param_grid,verbose=2, scoring='neg_log_loss')"
   ]
  },
  {
   "cell_type": "code",
   "execution_count": 123,
   "metadata": {},
   "outputs": [
    {
     "name": "stdout",
     "output_type": "stream",
     "text": [
      "Fitting 3 folds for each of 18 candidates, totalling 54 fits\n",
      "[CV] colsample_bytree=0.8, max_depth=6, min_child_weight=3 ...........\n",
      "[CV]  colsample_bytree=0.8, max_depth=6, min_child_weight=3, total= 7.1min\n",
      "[CV] colsample_bytree=0.8, max_depth=6, min_child_weight=3 ...........\n"
     ]
    },
    {
     "name": "stderr",
     "output_type": "stream",
     "text": [
      "[Parallel(n_jobs=1)]: Done   1 out of   1 | elapsed:  7.2min remaining:    0.0s\n"
     ]
    },
    {
     "name": "stdout",
     "output_type": "stream",
     "text": [
      "[CV]  colsample_bytree=0.8, max_depth=6, min_child_weight=3, total= 6.9min\n",
      "[CV] colsample_bytree=0.8, max_depth=6, min_child_weight=3 ...........\n",
      "[CV]  colsample_bytree=0.8, max_depth=6, min_child_weight=3, total= 6.9min\n",
      "[CV] colsample_bytree=0.8, max_depth=6, min_child_weight=6 ...........\n",
      "[CV]  colsample_bytree=0.8, max_depth=6, min_child_weight=6, total= 6.7min\n",
      "[CV] colsample_bytree=0.8, max_depth=6, min_child_weight=6 ...........\n",
      "[CV]  colsample_bytree=0.8, max_depth=6, min_child_weight=6, total= 6.8min\n",
      "[CV] colsample_bytree=0.8, max_depth=6, min_child_weight=6 ...........\n",
      "[CV]  colsample_bytree=0.8, max_depth=6, min_child_weight=6, total= 6.8min\n",
      "[CV] colsample_bytree=0.8, max_depth=6, min_child_weight=9 ...........\n",
      "[CV]  colsample_bytree=0.8, max_depth=6, min_child_weight=9, total= 6.6min\n",
      "[CV] colsample_bytree=0.8, max_depth=6, min_child_weight=9 ...........\n",
      "[CV]  colsample_bytree=0.8, max_depth=6, min_child_weight=9, total= 6.6min\n",
      "[CV] colsample_bytree=0.8, max_depth=6, min_child_weight=9 ...........\n",
      "[CV]  colsample_bytree=0.8, max_depth=6, min_child_weight=9, total= 6.6min\n",
      "[CV] colsample_bytree=0.8, max_depth=9, min_child_weight=3 ...........\n",
      "[CV]  colsample_bytree=0.8, max_depth=9, min_child_weight=3, total= 9.3min\n",
      "[CV] colsample_bytree=0.8, max_depth=9, min_child_weight=3 ...........\n",
      "[CV]  colsample_bytree=0.8, max_depth=9, min_child_weight=3, total= 9.3min\n",
      "[CV] colsample_bytree=0.8, max_depth=9, min_child_weight=3 ...........\n",
      "[CV]  colsample_bytree=0.8, max_depth=9, min_child_weight=3, total= 9.3min\n",
      "[CV] colsample_bytree=0.8, max_depth=9, min_child_weight=6 ...........\n",
      "[CV]  colsample_bytree=0.8, max_depth=9, min_child_weight=6, total= 9.0min\n",
      "[CV] colsample_bytree=0.8, max_depth=9, min_child_weight=6 ...........\n",
      "[CV]  colsample_bytree=0.8, max_depth=9, min_child_weight=6, total= 9.0min\n",
      "[CV] colsample_bytree=0.8, max_depth=9, min_child_weight=6 ...........\n",
      "[CV]  colsample_bytree=0.8, max_depth=9, min_child_weight=6, total= 9.0min\n",
      "[CV] colsample_bytree=0.8, max_depth=9, min_child_weight=9 ...........\n",
      "[CV]  colsample_bytree=0.8, max_depth=9, min_child_weight=9, total= 8.7min\n",
      "[CV] colsample_bytree=0.8, max_depth=9, min_child_weight=9 ...........\n",
      "[CV]  colsample_bytree=0.8, max_depth=9, min_child_weight=9, total= 8.7min\n",
      "[CV] colsample_bytree=0.8, max_depth=9, min_child_weight=9 ...........\n",
      "[CV]  colsample_bytree=0.8, max_depth=9, min_child_weight=9, total= 8.7min\n",
      "[CV] colsample_bytree=0.8, max_depth=12, min_child_weight=3 ..........\n",
      "[CV]  colsample_bytree=0.8, max_depth=12, min_child_weight=3, total=11.0min\n",
      "[CV] colsample_bytree=0.8, max_depth=12, min_child_weight=3 ..........\n",
      "[CV]  colsample_bytree=0.8, max_depth=12, min_child_weight=3, total=11.0min\n",
      "[CV] colsample_bytree=0.8, max_depth=12, min_child_weight=3 ..........\n",
      "[CV]  colsample_bytree=0.8, max_depth=12, min_child_weight=3, total=11.0min\n",
      "[CV] colsample_bytree=0.8, max_depth=12, min_child_weight=6 ..........\n",
      "[CV]  colsample_bytree=0.8, max_depth=12, min_child_weight=6, total=10.6min\n",
      "[CV] colsample_bytree=0.8, max_depth=12, min_child_weight=6 ..........\n",
      "[CV]  colsample_bytree=0.8, max_depth=12, min_child_weight=6, total=10.7min\n",
      "[CV] colsample_bytree=0.8, max_depth=12, min_child_weight=6 ..........\n",
      "[CV]  colsample_bytree=0.8, max_depth=12, min_child_weight=6, total=10.7min\n",
      "[CV] colsample_bytree=0.8, max_depth=12, min_child_weight=9 ..........\n",
      "[CV]  colsample_bytree=0.8, max_depth=12, min_child_weight=9, total=10.3min\n",
      "[CV] colsample_bytree=0.8, max_depth=12, min_child_weight=9 ..........\n",
      "[CV]  colsample_bytree=0.8, max_depth=12, min_child_weight=9, total=10.5min\n",
      "[CV] colsample_bytree=0.8, max_depth=12, min_child_weight=9 ..........\n",
      "[CV]  colsample_bytree=0.8, max_depth=12, min_child_weight=9, total=10.5min\n",
      "[CV] colsample_bytree=1.0, max_depth=6, min_child_weight=3 ...........\n",
      "[CV]  colsample_bytree=1.0, max_depth=6, min_child_weight=3, total= 8.3min\n",
      "[CV] colsample_bytree=1.0, max_depth=6, min_child_weight=3 ...........\n",
      "[CV]  colsample_bytree=1.0, max_depth=6, min_child_weight=3, total= 8.3min\n",
      "[CV] colsample_bytree=1.0, max_depth=6, min_child_weight=3 ...........\n",
      "[CV]  colsample_bytree=1.0, max_depth=6, min_child_weight=3, total= 8.3min\n",
      "[CV] colsample_bytree=1.0, max_depth=6, min_child_weight=6 ...........\n",
      "[CV]  colsample_bytree=1.0, max_depth=6, min_child_weight=6, total= 8.2min\n",
      "[CV] colsample_bytree=1.0, max_depth=6, min_child_weight=6 ...........\n",
      "[CV]  colsample_bytree=1.0, max_depth=6, min_child_weight=6, total= 8.2min\n",
      "[CV] colsample_bytree=1.0, max_depth=6, min_child_weight=6 ...........\n",
      "[CV]  colsample_bytree=1.0, max_depth=6, min_child_weight=6, total= 8.1min\n",
      "[CV] colsample_bytree=1.0, max_depth=6, min_child_weight=9 ...........\n",
      "[CV]  colsample_bytree=1.0, max_depth=6, min_child_weight=9, total= 7.7min\n",
      "[CV] colsample_bytree=1.0, max_depth=6, min_child_weight=9 ...........\n",
      "[CV]  colsample_bytree=1.0, max_depth=6, min_child_weight=9, total= 8.0min\n",
      "[CV] colsample_bytree=1.0, max_depth=6, min_child_weight=9 ...........\n",
      "[CV]  colsample_bytree=1.0, max_depth=6, min_child_weight=9, total= 8.0min\n",
      "[CV] colsample_bytree=1.0, max_depth=9, min_child_weight=3 ...........\n",
      "[CV]  colsample_bytree=1.0, max_depth=9, min_child_weight=3, total=11.3min\n",
      "[CV] colsample_bytree=1.0, max_depth=9, min_child_weight=3 ...........\n",
      "[CV]  colsample_bytree=1.0, max_depth=9, min_child_weight=3, total=11.3min\n",
      "[CV] colsample_bytree=1.0, max_depth=9, min_child_weight=3 ...........\n",
      "[CV]  colsample_bytree=1.0, max_depth=9, min_child_weight=3, total=11.2min\n",
      "[CV] colsample_bytree=1.0, max_depth=9, min_child_weight=6 ...........\n",
      "[CV]  colsample_bytree=1.0, max_depth=9, min_child_weight=6, total=11.0min\n",
      "[CV] colsample_bytree=1.0, max_depth=9, min_child_weight=6 ...........\n",
      "[CV]  colsample_bytree=1.0, max_depth=9, min_child_weight=6, total=10.7min\n",
      "[CV] colsample_bytree=1.0, max_depth=9, min_child_weight=6 ...........\n",
      "[CV]  colsample_bytree=1.0, max_depth=9, min_child_weight=6, total=10.9min\n",
      "[CV] colsample_bytree=1.0, max_depth=9, min_child_weight=9 ...........\n",
      "[CV]  colsample_bytree=1.0, max_depth=9, min_child_weight=9, total=10.6min\n",
      "[CV] colsample_bytree=1.0, max_depth=9, min_child_weight=9 ...........\n",
      "[CV]  colsample_bytree=1.0, max_depth=9, min_child_weight=9, total=10.6min\n",
      "[CV] colsample_bytree=1.0, max_depth=9, min_child_weight=9 ...........\n",
      "[CV]  colsample_bytree=1.0, max_depth=9, min_child_weight=9, total=10.6min\n",
      "[CV] colsample_bytree=1.0, max_depth=12, min_child_weight=3 ..........\n",
      "[CV]  colsample_bytree=1.0, max_depth=12, min_child_weight=3, total=13.4min\n",
      "[CV] colsample_bytree=1.0, max_depth=12, min_child_weight=3 ..........\n",
      "[CV]  colsample_bytree=1.0, max_depth=12, min_child_weight=3, total=13.4min\n",
      "[CV] colsample_bytree=1.0, max_depth=12, min_child_weight=3 ..........\n",
      "[CV]  colsample_bytree=1.0, max_depth=12, min_child_weight=3, total=13.4min\n",
      "[CV] colsample_bytree=1.0, max_depth=12, min_child_weight=6 ..........\n",
      "[CV]  colsample_bytree=1.0, max_depth=12, min_child_weight=6, total=13.1min\n",
      "[CV] colsample_bytree=1.0, max_depth=12, min_child_weight=6 ..........\n",
      "[CV]  colsample_bytree=1.0, max_depth=12, min_child_weight=6, total=13.0min\n",
      "[CV] colsample_bytree=1.0, max_depth=12, min_child_weight=6 ..........\n",
      "[CV]  colsample_bytree=1.0, max_depth=12, min_child_weight=6, total=14.5min\n",
      "[CV] colsample_bytree=1.0, max_depth=12, min_child_weight=9 ..........\n",
      "[CV]  colsample_bytree=1.0, max_depth=12, min_child_weight=9, total=14.8min\n",
      "[CV] colsample_bytree=1.0, max_depth=12, min_child_weight=9 ..........\n",
      "[CV]  colsample_bytree=1.0, max_depth=12, min_child_weight=9, total=12.7min\n",
      "[CV] colsample_bytree=1.0, max_depth=12, min_child_weight=9 ..........\n",
      "[CV]  colsample_bytree=1.0, max_depth=12, min_child_weight=9, total=12.7min\n"
     ]
    },
    {
     "name": "stderr",
     "output_type": "stream",
     "text": [
      "[Parallel(n_jobs=1)]: Done  54 out of  54 | elapsed: 537.9min finished\n"
     ]
    },
    {
     "data": {
      "text/plain": [
       "GridSearchCV(cv=None, error_score='raise',\n",
       "       estimator=XGBClassifier(base_score=0.5, booster='gbtree', colsample_bylevel=1,\n",
       "       colsample_bytree=1, eval_metric='mlogloss', gamma=0,\n",
       "       learning_rate=0.1, max_delta_step=0, max_depth=3,\n",
       "       min_child_weight=1, missing=None, n_estimators=200, n_jobs=1,\n",
       "       nthread=None, num_class=9, objective='multi:softprob',\n",
       "       random_state=0, reg_alpha=0, reg_lambda=1, scale_pos_weight=1,\n",
       "       seed=None, silent=True, subsample=1),\n",
       "       fit_params=None, iid=True, n_jobs=1,\n",
       "       param_grid={'max_depth': [6, 9, 12], 'min_child_weight': [3, 6, 9], 'colsample_bytree': [0.8, 1.0]},\n",
       "       pre_dispatch='2*n_jobs', refit=True, return_train_score='warn',\n",
       "       scoring='neg_log_loss', verbose=2)"
      ]
     },
     "execution_count": 123,
     "metadata": {},
     "output_type": "execute_result"
    }
   ],
   "source": [
    "grid.fit(x_train,labels)"
   ]
  },
  {
   "cell_type": "code",
   "execution_count": 124,
   "metadata": {},
   "outputs": [
    {
     "data": {
      "text/plain": [
       "{'colsample_bytree': 0.8, 'max_depth': 6, 'min_child_weight': 6}"
      ]
     },
     "execution_count": 124,
     "metadata": {},
     "output_type": "execute_result"
    }
   ],
   "source": [
    "grid.best_params_"
   ]
  },
  {
   "cell_type": "markdown",
   "metadata": {},
   "source": [
    "### Predictions on test data"
   ]
  },
  {
   "cell_type": "code",
   "execution_count": 125,
   "metadata": {
    "collapsed": true
   },
   "outputs": [],
   "source": [
    "predictions = grid.predict_proba(x_test)"
   ]
  },
  {
   "cell_type": "code",
   "execution_count": 126,
   "metadata": {
    "collapsed": true,
    "scrolled": true
   },
   "outputs": [],
   "source": [
    "submit = pd.DataFrame(data=predictions, index=sample.id.values, columns=sample.columns[1:])\n",
    "submit.to_csv('submission.csv', index_label='id')"
   ]
  }
 ],
 "metadata": {
  "kernelspec": {
   "display_name": "Python 3",
   "language": "python",
   "name": "python3"
  },
  "language_info": {
   "codemirror_mode": {
    "name": "ipython",
    "version": 3
   },
   "file_extension": ".py",
   "mimetype": "text/x-python",
   "name": "python",
   "nbconvert_exporter": "python",
   "pygments_lexer": "ipython3",
   "version": "3.5.4"
  }
 },
 "nbformat": 4,
 "nbformat_minor": 2
}
